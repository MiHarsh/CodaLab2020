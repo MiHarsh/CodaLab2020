{
  "nbformat": 4,
  "nbformat_minor": 0,
  "metadata": {
    "colab": {
      "name": "Conventional_Approaches_Kmeans_KNN.ipynb",
      "provenance": [],
      "toc_visible": true,
      "include_colab_link": true
    },
    "kernelspec": {
      "name": "python3",
      "display_name": "Python 3"
    },
    "accelerator": "GPU"
  },
  "cells": [
    {
      "cell_type": "markdown",
      "metadata": {
        "id": "view-in-github",
        "colab_type": "text"
      },
      "source": [
        "<a href=\"https://colab.research.google.com/github/MiHarsh/CodaLab-SharedTask/blob/main/Conventional_Approaches_Kmeans_KNN.ipynb\" target=\"_parent\"><img src=\"https://colab.research.google.com/assets/colab-badge.svg\" alt=\"Open In Colab\"/></a>"
      ]
    },
    {
      "cell_type": "markdown",
      "metadata": {
        "id": "_dPZIt07-klz"
      },
      "source": [
        "Import required libraries"
      ]
    },
    {
      "cell_type": "code",
      "metadata": {
        "id": "_ChXEyRF7x4f",
        "outputId": "0dc49bbf-447a-4d7e-b0b9-dcb6016f1231",
        "colab": {
          "base_uri": "https://localhost:8080/"
        }
      },
      "source": [
        "!nvidia-smi -L"
      ],
      "execution_count": 1,
      "outputs": [
        {
          "output_type": "stream",
          "text": [
            "GPU 0: Tesla P100-PCIE-16GB (UUID: GPU-dda12bca-4dcd-2307-4676-9002282b46f3)\n"
          ],
          "name": "stdout"
        }
      ]
    },
    {
      "cell_type": "code",
      "metadata": {
        "id": "W82elW6H5swu",
        "outputId": "08fe3737-3b2c-4d0e-f939-50c321c005d9",
        "colab": {
          "base_uri": "https://localhost:8080/"
        }
      },
      "source": [
        "import pandas as pd\n",
        "import numpy as np\n",
        "import seaborn as sns\n",
        "import matplotlib.pyplot as plt\n",
        "\n",
        "\n",
        "from sklearn.neighbors import KNeighborsClassifier\n",
        "from sklearn.cluster import KMeans\n",
        "\n",
        "\n",
        "from sklearn.feature_extraction.text import CountVectorizer\n",
        "from sklearn.feature_extraction.text import TfidfVectorizer\n",
        "from sklearn.metrics import accuracy_score,f1_score\n",
        "from sklearn.preprocessing import LabelEncoder\n",
        "from sklearn.metrics import classification_report\n",
        "\n",
        "\n",
        "import sys\n",
        "import re\n",
        "!pip install emoji --quiet\n",
        "import emoji\n",
        "!pip install contractions --quiet\n",
        "import contractions\n",
        "import nltk\n",
        "from nltk.corpus import stopwords\n",
        "nltk.download('stopwords')\n",
        "import unicodedata"
      ],
      "execution_count": 1,
      "outputs": [
        {
          "output_type": "stream",
          "text": [
            "[nltk_data] Downloading package stopwords to /root/nltk_data...\n",
            "[nltk_data]   Package stopwords is already up-to-date!\n"
          ],
          "name": "stdout"
        }
      ]
    },
    {
      "cell_type": "markdown",
      "metadata": {
        "id": "pprVPNLz-uwK"
      },
      "source": [
        "## Dataset"
      ]
    },
    {
      "cell_type": "code",
      "metadata": {
        "id": "ntfyXmtW5ybP",
        "outputId": "d37eb679-daff-4fa9-fba1-478ebee53d83",
        "colab": {
          "base_uri": "https://localhost:8080/",
          "height": 419
        }
      },
      "source": [
        "train_datapath=\"https://raw.githubusercontent.com/MiHarsh/MiHarsh/master/Constraint_English_Train%20-%20Sheet1.csv\"\n",
        "val_datapath  =\"https://raw.githubusercontent.com/MiHarsh/MiHarsh/master/Constraint_English_Val%20-%20Sheet1.csv\"\n",
        "train         = pd.read_csv(train_datapath)\n",
        "valid         = pd.read_csv(val_datapath)\n",
        "total         = pd.concat([train,valid],ignore_index=True)\n",
        "mix           = total.iloc[:,1:]\n",
        "mix"
      ],
      "execution_count": 2,
      "outputs": [
        {
          "output_type": "execute_result",
          "data": {
            "text/html": [
              "<div>\n",
              "<style scoped>\n",
              "    .dataframe tbody tr th:only-of-type {\n",
              "        vertical-align: middle;\n",
              "    }\n",
              "\n",
              "    .dataframe tbody tr th {\n",
              "        vertical-align: top;\n",
              "    }\n",
              "\n",
              "    .dataframe thead th {\n",
              "        text-align: right;\n",
              "    }\n",
              "</style>\n",
              "<table border=\"1\" class=\"dataframe\">\n",
              "  <thead>\n",
              "    <tr style=\"text-align: right;\">\n",
              "      <th></th>\n",
              "      <th>tweet</th>\n",
              "      <th>label</th>\n",
              "    </tr>\n",
              "  </thead>\n",
              "  <tbody>\n",
              "    <tr>\n",
              "      <th>0</th>\n",
              "      <td>The CDC currently reports 99031 deaths. In gen...</td>\n",
              "      <td>real</td>\n",
              "    </tr>\n",
              "    <tr>\n",
              "      <th>1</th>\n",
              "      <td>States reported 1121 deaths a small rise from ...</td>\n",
              "      <td>real</td>\n",
              "    </tr>\n",
              "    <tr>\n",
              "      <th>2</th>\n",
              "      <td>Politically Correct Woman (Almost) Uses Pandem...</td>\n",
              "      <td>fake</td>\n",
              "    </tr>\n",
              "    <tr>\n",
              "      <th>3</th>\n",
              "      <td>#IndiaFightsCorona: We have 1524 #COVID testin...</td>\n",
              "      <td>real</td>\n",
              "    </tr>\n",
              "    <tr>\n",
              "      <th>4</th>\n",
              "      <td>Populous states can generate large case counts...</td>\n",
              "      <td>real</td>\n",
              "    </tr>\n",
              "    <tr>\n",
              "      <th>...</th>\n",
              "      <td>...</td>\n",
              "      <td>...</td>\n",
              "    </tr>\n",
              "    <tr>\n",
              "      <th>8555</th>\n",
              "      <td>Donald Trump wrongly claimed that New Zealand ...</td>\n",
              "      <td>fake</td>\n",
              "    </tr>\n",
              "    <tr>\n",
              "      <th>8556</th>\n",
              "      <td>Current understanding is #COVID19 spreads most...</td>\n",
              "      <td>real</td>\n",
              "    </tr>\n",
              "    <tr>\n",
              "      <th>8557</th>\n",
              "      <td>Nothing screams “I am sat around doing fuck al...</td>\n",
              "      <td>fake</td>\n",
              "    </tr>\n",
              "    <tr>\n",
              "      <th>8558</th>\n",
              "      <td>Birx says COVID-19 outbreak not under control ...</td>\n",
              "      <td>fake</td>\n",
              "    </tr>\n",
              "    <tr>\n",
              "      <th>8559</th>\n",
              "      <td>Another 4422 new coronavirus cases have been c...</td>\n",
              "      <td>real</td>\n",
              "    </tr>\n",
              "  </tbody>\n",
              "</table>\n",
              "<p>8560 rows × 2 columns</p>\n",
              "</div>"
            ],
            "text/plain": [
              "                                                  tweet label\n",
              "0     The CDC currently reports 99031 deaths. In gen...  real\n",
              "1     States reported 1121 deaths a small rise from ...  real\n",
              "2     Politically Correct Woman (Almost) Uses Pandem...  fake\n",
              "3     #IndiaFightsCorona: We have 1524 #COVID testin...  real\n",
              "4     Populous states can generate large case counts...  real\n",
              "...                                                 ...   ...\n",
              "8555  Donald Trump wrongly claimed that New Zealand ...  fake\n",
              "8556  Current understanding is #COVID19 spreads most...  real\n",
              "8557  Nothing screams “I am sat around doing fuck al...  fake\n",
              "8558  Birx says COVID-19 outbreak not under control ...  fake\n",
              "8559  Another 4422 new coronavirus cases have been c...  real\n",
              "\n",
              "[8560 rows x 2 columns]"
            ]
          },
          "metadata": {
            "tags": []
          },
          "execution_count": 2
        }
      ]
    },
    {
      "cell_type": "markdown",
      "metadata": {
        "id": "8UkHQmWZ-xa5"
      },
      "source": [
        "## Data Cleaning"
      ]
    },
    {
      "cell_type": "code",
      "metadata": {
        "id": "SJ-EDDek5-VP",
        "outputId": "97c09183-1f49-47d5-ce0a-0684f966f5ba",
        "colab": {
          "base_uri": "https://localhost:8080/",
          "height": 419
        }
      },
      "source": [
        "def cleaning(text):\n",
        "  text= text.lower()\n",
        "  text= emoji.demojize(text)\n",
        "  text=contractions.fix(text)\n",
        "  text=text.strip()\n",
        "  text=text.replace('[^\\w\\s]','')\n",
        "  text=re.sub(r'http\\S+', '', text)\n",
        "  REPLACE_BY_SPACE_RE = re.compile('[/(){}\\[\\]\\|@,;]')\n",
        "  BAD_SYMBOLS_RE = re.compile('[^0-9a-z +]')\n",
        "  text = REPLACE_BY_SPACE_RE.sub(' ' , text)\n",
        "  text = BAD_SYMBOLS_RE.sub(' ',text)\n",
        "  \n",
        "  return text\n",
        "\n",
        "clean=mix['tweet'].apply(cleaning)\n",
        "STOPWORDS = set(stopwords.words('english'))\n",
        "\n",
        "ff=[]\n",
        "for i in clean:\n",
        "  text=unicodedata.normalize('NFKD', i).encode('ascii', 'ignore').decode('utf-8', 'ignore')\n",
        "  ff.append(text)\n",
        "dd=pd.DataFrame(ff)\n",
        "dataset = pd.concat([dd,mix['label']],axis=1)\n",
        "dataset.label = dataset.label.map({'real':0,'fake':1})\n",
        "dataset"
      ],
      "execution_count": 3,
      "outputs": [
        {
          "output_type": "execute_result",
          "data": {
            "text/html": [
              "<div>\n",
              "<style scoped>\n",
              "    .dataframe tbody tr th:only-of-type {\n",
              "        vertical-align: middle;\n",
              "    }\n",
              "\n",
              "    .dataframe tbody tr th {\n",
              "        vertical-align: top;\n",
              "    }\n",
              "\n",
              "    .dataframe thead th {\n",
              "        text-align: right;\n",
              "    }\n",
              "</style>\n",
              "<table border=\"1\" class=\"dataframe\">\n",
              "  <thead>\n",
              "    <tr style=\"text-align: right;\">\n",
              "      <th></th>\n",
              "      <th>0</th>\n",
              "      <th>label</th>\n",
              "    </tr>\n",
              "  </thead>\n",
              "  <tbody>\n",
              "    <tr>\n",
              "      <th>0</th>\n",
              "      <td>the cdc currently reports 99031 deaths  in gen...</td>\n",
              "      <td>0</td>\n",
              "    </tr>\n",
              "    <tr>\n",
              "      <th>1</th>\n",
              "      <td>states reported 1121 deaths a small rise from ...</td>\n",
              "      <td>0</td>\n",
              "    </tr>\n",
              "    <tr>\n",
              "      <th>2</th>\n",
              "      <td>politically correct woman  almost  uses pandem...</td>\n",
              "      <td>1</td>\n",
              "    </tr>\n",
              "    <tr>\n",
              "      <th>3</th>\n",
              "      <td>indiafightscorona  we have 1524  covid testin...</td>\n",
              "      <td>0</td>\n",
              "    </tr>\n",
              "    <tr>\n",
              "      <th>4</th>\n",
              "      <td>populous states can generate large case counts...</td>\n",
              "      <td>0</td>\n",
              "    </tr>\n",
              "    <tr>\n",
              "      <th>...</th>\n",
              "      <td>...</td>\n",
              "      <td>...</td>\n",
              "    </tr>\n",
              "    <tr>\n",
              "      <th>8555</th>\n",
              "      <td>donald trump wrongly claimed that new zealand ...</td>\n",
              "      <td>1</td>\n",
              "    </tr>\n",
              "    <tr>\n",
              "      <th>8556</th>\n",
              "      <td>current understanding is  covid19 spreads most...</td>\n",
              "      <td>0</td>\n",
              "    </tr>\n",
              "    <tr>\n",
              "      <th>8557</th>\n",
              "      <td>nothing screams  i am sat around doing fuck al...</td>\n",
              "      <td>1</td>\n",
              "    </tr>\n",
              "    <tr>\n",
              "      <th>8558</th>\n",
              "      <td>birx says covid 19 outbreak not under control ...</td>\n",
              "      <td>1</td>\n",
              "    </tr>\n",
              "    <tr>\n",
              "      <th>8559</th>\n",
              "      <td>another 4422 new coronavirus cases have been c...</td>\n",
              "      <td>0</td>\n",
              "    </tr>\n",
              "  </tbody>\n",
              "</table>\n",
              "<p>8560 rows × 2 columns</p>\n",
              "</div>"
            ],
            "text/plain": [
              "                                                      0  label\n",
              "0     the cdc currently reports 99031 deaths  in gen...      0\n",
              "1     states reported 1121 deaths a small rise from ...      0\n",
              "2     politically correct woman  almost  uses pandem...      1\n",
              "3      indiafightscorona  we have 1524  covid testin...      0\n",
              "4     populous states can generate large case counts...      0\n",
              "...                                                 ...    ...\n",
              "8555  donald trump wrongly claimed that new zealand ...      1\n",
              "8556  current understanding is  covid19 spreads most...      0\n",
              "8557  nothing screams  i am sat around doing fuck al...      1\n",
              "8558  birx says covid 19 outbreak not under control ...      1\n",
              "8559  another 4422 new coronavirus cases have been c...      0\n",
              "\n",
              "[8560 rows x 2 columns]"
            ]
          },
          "metadata": {
            "tags": []
          },
          "execution_count": 3
        }
      ]
    },
    {
      "cell_type": "markdown",
      "metadata": {
        "id": "fJJ56wPV-2ZK"
      },
      "source": [
        "## Models for Conventional Approaches"
      ]
    },
    {
      "cell_type": "code",
      "metadata": {
        "id": "Vb_0JAnh77fp"
      },
      "source": [
        "Km   = KMeans(n_clusters=2, random_state=0)\n",
        "KNN  = KNeighborsClassifier(n_neighbors=3)"
      ],
      "execution_count": 4,
      "outputs": []
    },
    {
      "cell_type": "markdown",
      "metadata": {
        "id": "5u-GT3S67OwC"
      },
      "source": [
        "## Count Vector"
      ]
    },
    {
      "cell_type": "code",
      "metadata": {
        "id": "5Gof0Saa6ouv",
        "outputId": "0f6f1cf9-c707-492b-ece8-e07aa89c47e2",
        "colab": {
          "base_uri": "https://localhost:8080/"
        }
      },
      "source": [
        "cv= CountVectorizer()\n",
        "transform = cv.fit_transform(dataset[0].values.astype('U'))\n",
        "x_train= transform[:len(train)]                                           #trainset \n",
        "x_valid= transform[len(train):]                                           #validset\n",
        "print(x_train.shape)\n",
        "print(x_valid.shape)"
      ],
      "execution_count": 5,
      "outputs": [
        {
          "output_type": "stream",
          "text": [
            "(6420, 16488)\n",
            "(2140, 16488)\n"
          ],
          "name": "stdout"
        }
      ]
    },
    {
      "cell_type": "markdown",
      "metadata": {
        "id": "TInsrnfBAZjl"
      },
      "source": [
        "### Training the models"
      ]
    },
    {
      "cell_type": "code",
      "metadata": {
        "id": "a9ROXHwc9A17",
        "outputId": "faed322c-6d9f-4a99-eb5b-6df9ba893d86",
        "colab": {
          "base_uri": "https://localhost:8080/"
        }
      },
      "source": [
        "Km.fit(x_train,dataset['label'][:len(train)])\n",
        "KNN.fit(x_train,dataset['label'][:len(train)])"
      ],
      "execution_count": 6,
      "outputs": [
        {
          "output_type": "execute_result",
          "data": {
            "text/plain": [
              "KNeighborsClassifier(algorithm='auto', leaf_size=30, metric='minkowski',\n",
              "                     metric_params=None, n_jobs=None, n_neighbors=3, p=2,\n",
              "                     weights='uniform')"
            ]
          },
          "metadata": {
            "tags": []
          },
          "execution_count": 6
        }
      ]
    },
    {
      "cell_type": "markdown",
      "metadata": {
        "id": "ssBbFRAMAdw5"
      },
      "source": [
        "### Prediction of labels for Valid dataset using Count Vector"
      ]
    },
    {
      "cell_type": "code",
      "metadata": {
        "id": "iuCUGUVv8jtS"
      },
      "source": [
        "y_pred1= Km.predict(x_valid)\n",
        "y_pred2= KNN.predict(x_valid)\n"
      ],
      "execution_count": 7,
      "outputs": []
    },
    {
      "cell_type": "code",
      "metadata": {
        "id": "HoES5pH18yGh",
        "outputId": "290cec58-e1f4-4e5e-d012-370b574d14e5",
        "colab": {
          "base_uri": "https://localhost:8080/"
        }
      },
      "source": [
        "for i in range(2):\n",
        "  ac=accuracy_score(dataset['label'][len(train):], globals()['y_pred'+str(int(i+1))])\n",
        "  print(ac)\n",
        "  print(classification_report(dataset['label'][len(train):], globals()['y_pred'+str(int(i+1))]))"
      ],
      "execution_count": 8,
      "outputs": [
        {
          "output_type": "stream",
          "text": [
            "0.4766355140186916\n",
            "              precision    recall  f1-score   support\n",
            "\n",
            "           0       0.00      0.00      0.00      1120\n",
            "           1       0.48      1.00      0.65      1020\n",
            "\n",
            "    accuracy                           0.48      2140\n",
            "   macro avg       0.24      0.50      0.32      2140\n",
            "weighted avg       0.23      0.48      0.31      2140\n",
            "\n",
            "0.75\n",
            "              precision    recall  f1-score   support\n",
            "\n",
            "           0       0.92      0.57      0.70      1120\n",
            "           1       0.67      0.95      0.78      1020\n",
            "\n",
            "    accuracy                           0.75      2140\n",
            "   macro avg       0.80      0.76      0.74      2140\n",
            "weighted avg       0.80      0.75      0.74      2140\n",
            "\n"
          ],
          "name": "stdout"
        },
        {
          "output_type": "stream",
          "text": [
            "/usr/local/lib/python3.6/dist-packages/sklearn/metrics/_classification.py:1272: UndefinedMetricWarning: Precision and F-score are ill-defined and being set to 0.0 in labels with no predicted samples. Use `zero_division` parameter to control this behavior.\n",
            "  _warn_prf(average, modifier, msg_start, len(result))\n"
          ],
          "name": "stderr"
        }
      ]
    },
    {
      "cell_type": "markdown",
      "metadata": {
        "id": "V3mdqU5c9rJ8"
      },
      "source": [
        "## Tf-IDf"
      ]
    },
    {
      "cell_type": "code",
      "metadata": {
        "id": "nZtvoyW49iPd"
      },
      "source": [
        "vectorizer = TfidfVectorizer()\n",
        "X = vectorizer.fit_transform(dataset[0])\n",
        "X_train= X[:len(train)]\n",
        "X_valid= X[len(train):]"
      ],
      "execution_count": 9,
      "outputs": []
    },
    {
      "cell_type": "code",
      "metadata": {
        "id": "N-v5JMdJlLZ_"
      },
      "source": [
        "Km   = KMeans(n_clusters=2, random_state=0)\n",
        "KNN  = KNeighborsClassifier(n_neighbors=3)"
      ],
      "execution_count": 10,
      "outputs": []
    },
    {
      "cell_type": "code",
      "metadata": {
        "id": "dQIWZ7DV9vir",
        "outputId": "4c4a6ff5-7ae7-41ea-b20d-1ade59d6794e",
        "colab": {
          "base_uri": "https://localhost:8080/"
        }
      },
      "source": [
        "Km.fit(X_train,dataset['label'][:len(train)])\n",
        "KNN.fit(X_train,dataset['label'][:len(train)])"
      ],
      "execution_count": 11,
      "outputs": [
        {
          "output_type": "execute_result",
          "data": {
            "text/plain": [
              "KNeighborsClassifier(algorithm='auto', leaf_size=30, metric='minkowski',\n",
              "                     metric_params=None, n_jobs=None, n_neighbors=3, p=2,\n",
              "                     weights='uniform')"
            ]
          },
          "metadata": {
            "tags": []
          },
          "execution_count": 11
        }
      ]
    },
    {
      "cell_type": "code",
      "metadata": {
        "id": "MWxPs3Ds98N6"
      },
      "source": [
        "Y_pred1= Km.predict(X_valid)\n",
        "Y_pred2= KNN.predict(X_valid)"
      ],
      "execution_count": 12,
      "outputs": []
    },
    {
      "cell_type": "code",
      "metadata": {
        "id": "eb9MuuTM-CoQ",
        "outputId": "90ad901f-ef10-4100-abfe-44c017b16e2b",
        "colab": {
          "base_uri": "https://localhost:8080/"
        }
      },
      "source": [
        "for i in range(2):\n",
        "  ac=accuracy_score(dataset['label'][len(train):], globals()['Y_pred'+str(int(i+1))])\n",
        "  print(ac)\n",
        "  print(classification_report(dataset['label'][len(train):], globals()['Y_pred'+str(int(i+1))]))"
      ],
      "execution_count": 13,
      "outputs": [
        {
          "output_type": "stream",
          "text": [
            "0.3574766355140187\n",
            "              precision    recall  f1-score   support\n",
            "\n",
            "           0       0.43      0.67      0.52      1120\n",
            "           1       0.04      0.02      0.02      1020\n",
            "\n",
            "    accuracy                           0.36      2140\n",
            "   macro avg       0.24      0.34      0.27      2140\n",
            "weighted avg       0.24      0.36      0.28      2140\n",
            "\n",
            "0.9107476635514019\n",
            "              precision    recall  f1-score   support\n",
            "\n",
            "           0       0.91      0.93      0.92      1120\n",
            "           1       0.92      0.90      0.91      1020\n",
            "\n",
            "    accuracy                           0.91      2140\n",
            "   macro avg       0.91      0.91      0.91      2140\n",
            "weighted avg       0.91      0.91      0.91      2140\n",
            "\n"
          ],
          "name": "stdout"
        }
      ]
    }
  ]
}